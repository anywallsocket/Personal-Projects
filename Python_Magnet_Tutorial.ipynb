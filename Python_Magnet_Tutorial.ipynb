{
  "nbformat": 4,
  "nbformat_minor": 0,
  "metadata": {
    "colab": {
      "provenance": [],
      "authorship_tag": "ABX9TyOndUtCOzZ5wXTBonCsnuWL",
      "include_colab_link": true
    },
    "kernelspec": {
      "name": "python3",
      "display_name": "Python 3"
    },
    "language_info": {
      "name": "python"
    }
  },
  "cells": [
    {
      "cell_type": "markdown",
      "metadata": {
        "id": "view-in-github",
        "colab_type": "text"
      },
      "source": [
        "<a href=\"https://colab.research.google.com/github/anywallsocket/Code/blob/main/Python_Magnet_Tutorial.ipynb\" target=\"_parent\"><img src=\"https://colab.research.google.com/assets/colab-badge.svg\" alt=\"Open In Colab\"/></a>"
      ]
    },
    {
      "cell_type": "markdown",
      "source": [
        "Here I will demonstrate the first lab's Python requirements,<br>\n",
        "in a different way than what has been offered by Adam."
      ],
      "metadata": {
        "id": "C6jXU2JDZJsu"
      }
    },
    {
      "cell_type": "markdown",
      "source": [
        "First of course we need to import our libraries <br>\n",
        "For this we just need numpy for math, and matplotlib for plotting."
      ],
      "metadata": {
        "id": "B0JONvsWZI_v"
      }
    },
    {
      "cell_type": "code",
      "source": [
        "import numpy as np\n",
        "import matplotlib.pyplot as plt"
      ],
      "metadata": {
        "id": "tkanTSb3ZCSm"
      },
      "execution_count": 1,
      "outputs": []
    },
    {
      "cell_type": "markdown",
      "source": [
        "Secondly, we need to load in our data. <br>\n",
        "To the left we can upload files, for this version I expect csv or txt files. <br> You should be able to export your data from excel or google sheets into a csv file. <br>"
      ],
      "metadata": {
        "id": "1wusCYdJZwdW"
      }
    },
    {
      "cell_type": "code",
      "source": [
        "earth_data = np.genfromtxt('Before.csv', delimiter=',')\n",
        "earth_mag_data = np.genfromtxt('After.csv', delimiter=',')\n",
        "earth_data"
      ],
      "metadata": {
        "colab": {
          "base_uri": "https://localhost:8080/"
        },
        "id": "Qx7oEHjvaCB-",
        "outputId": "1314facb-d230-47bc-ce4f-f120c98e8fc6"
      },
      "execution_count": 2,
      "outputs": [
        {
          "output_type": "execute_result",
          "data": {
            "text/plain": [
              "array([[         nan,          nan,          nan,          nan,\n",
              "                 nan],\n",
              "       [  0.1642565 , -19.02776337,  -5.67255402, -35.6912384 ,\n",
              "         40.84235726],\n",
              "       [  0.1742655 , -19.02776337,  -5.67255402, -35.6912384 ,\n",
              "         40.84235726],\n",
              "       ...,\n",
              "       [  5.61762492, -19.2078476 ,  -5.63870239, -35.49925232,\n",
              "         40.75454931],\n",
              "       [  5.62763492, -19.2078476 ,  -5.63870239, -35.49925232,\n",
              "         40.75454931],\n",
              "       [  5.63761392, -19.17770386,  -5.63013077, -35.35035706,\n",
              "         40.60948709]])"
            ]
          },
          "metadata": {},
          "execution_count": 2
        }
      ]
    },
    {
      "cell_type": "code",
      "source": [
        "#printing the first row will print the variable names\n",
        "earth_data[0]"
      ],
      "metadata": {
        "colab": {
          "base_uri": "https://localhost:8080/"
        },
        "id": "Z8_78k9oc5nM",
        "outputId": "81e30ece-7d39-496b-bd7b-3c56b88abc9d"
      },
      "execution_count": 3,
      "outputs": [
        {
          "output_type": "execute_result",
          "data": {
            "text/plain": [
              "array([nan, nan, nan, nan, nan])"
            ]
          },
          "metadata": {},
          "execution_count": 3
        }
      ]
    },
    {
      "cell_type": "markdown",
      "source": [
        "What I've done above is used numpy's genfromtxt function to load in the data as floats (numbers with decimals), note that this means the variable labels (e.g., time, x, y, z, etc) are 'nan', which is OK, so long as I understand how the data is formatted -- you can load it into excel to figure that out.\n",
        "<br> However, I already know the data is structerd as [[time, x, y, z, amp]]"
      ],
      "metadata": {
        "id": "BkXMmCBZdbkW"
      }
    },
    {
      "cell_type": "code",
      "source": [
        "#In python we can use what's called 'slicing' to access arrays easily\n",
        "time = earth_data[1:,0]\n",
        "#This roughly translates to: grab all rows, starting from the first\n",
        "#(and therefore skipping the nan at earth[0], within the first column"
      ],
      "metadata": {
        "id": "oePZgQ5fe_2X"
      },
      "execution_count": 4,
      "outputs": []
    },
    {
      "cell_type": "markdown",
      "source": [
        ">If you've already removed your variable labels, just remove the 1's before the colon within the slices like this: earth_data[1:,0] $→$ earth_data[:,0]"
      ],
      "metadata": {
        "id": "ze1uZbMxwZRM"
      }
    },
    {
      "cell_type": "code",
      "source": [
        "time"
      ],
      "metadata": {
        "colab": {
          "base_uri": "https://localhost:8080/"
        },
        "id": "hPBjjB53fNqN",
        "outputId": "e66b8864-f695-46f8-9cf8-0932b8cca768"
      },
      "execution_count": 5,
      "outputs": [
        {
          "output_type": "execute_result",
          "data": {
            "text/plain": [
              "array([0.1642565 , 0.1742655 , 0.1842755 , 0.1942855 , 0.2042955 ,\n",
              "       0.2142745 , 0.2242845 , 0.2342935 , 0.2443035 , 0.2543135 ,\n",
              "       0.2643235 , 0.2743325 , 0.2843125 , 0.2943215 , 0.3043315 ,\n",
              "       0.3143415 , 0.3243515 , 0.3343615 , 0.3443705 , 0.3543505 ,\n",
              "       0.3643595 , 0.3743695 , 0.3843795 , 0.3943895 , 0.4043985 ,\n",
              "       0.4144085 , 0.4243875 , 0.4343975 , 0.4444075 , 0.4544175 ,\n",
              "       0.4644265 , 0.4744365 , 0.4844465 , 0.4944565 , 0.5044355 ,\n",
              "       0.5144455 , 0.5244555 , 0.5344645 , 0.5444745 , 0.5544845 ,\n",
              "       0.5644945 , 0.5744735 , 0.5844835 , 0.5944925 , 0.6045025 ,\n",
              "       0.6145125 , 0.6245225 , 0.6345315 , 0.6445115 , 0.6545205 ,\n",
              "       0.6645305 , 0.6745405 , 0.6845505 , 0.6945605 , 0.7045695 ,\n",
              "       0.7145795 , 0.7245585 , 0.73453738, 0.74454738, 0.75455737,\n",
              "       0.76456638, 0.77457637, 0.78458638, 0.79456538, 0.80457537,\n",
              "       0.81458537, 0.82459437, 0.83460437, 0.84461438, 0.85462437,\n",
              "       0.86460337, 0.87461338, 0.88462337, 0.89463238, 0.90464237,\n",
              "       0.91465237, 0.92466238, 0.93467137, 0.94465137, 0.95466038,\n",
              "       0.96467037, 0.97468038, 0.98469038, 0.99469938, 1.00470938,\n",
              "       1.01468837, 1.02469838, 1.03470837, 1.04471837, 1.05472737,\n",
              "       1.06473737, 1.07474738, 1.08472638, 1.09473638, 1.10474637,\n",
              "       1.11475638, 1.12476537, 1.13477538, 1.14478538, 1.15479537,\n",
              "       1.16477437, 1.17478437, 1.18479337, 1.19480338, 1.20481338,\n",
              "       1.21482337, 1.22483238, 1.23481237, 1.24482137, 1.25483137,\n",
              "       1.26484138, 1.27485137, 1.28486137, 1.29487037, 1.30485038,\n",
              "       1.31485937, 1.32486938, 1.33487938, 1.34488937, 1.35489838,\n",
              "       1.36490837, 1.37491838, 1.38489737, 1.39490738, 1.40491737,\n",
              "       1.41492638, 1.42493637, 1.43494637, 1.44495638, 1.45493538,\n",
              "       1.46494538, 1.47495537, 1.48496437, 1.49497437, 1.50498438,\n",
              "       1.51499437, 1.52497338, 1.53498337, 1.54499238, 1.55500237,\n",
              "       1.56501238, 1.57502238, 1.58503138, 1.59504138, 1.60502038,\n",
              "       1.61503037, 1.62504037, 1.63505038, 1.64506037, 1.65506938,\n",
              "       1.66507937, 1.67505838, 1.68506837, 1.69507838, 1.70508838,\n",
              "       1.71509738, 1.72510738, 1.73510567, 1.74508467, 1.75509467,\n",
              "       1.76510467, 1.77511367, 1.78512367, 1.79513367, 1.80514367,\n",
              "       1.81515267, 1.82513267, 1.83514267, 1.84515167, 1.85516167,\n",
              "       1.86517167, 1.87518167, 1.88519067, 1.89517067, 1.90517967,\n",
              "       1.91518967, 1.92519967, 1.93520967, 1.94521867, 1.95522867,\n",
              "       1.96520767, 1.97521767, 1.98522767, 1.99523767, 2.00524667,\n",
              "       2.01525667, 2.02526667, 2.03527667, 2.04525567, 2.05526567,\n",
              "       2.06527567, 2.07528467, 2.08529467, 2.09530467, 2.10531467,\n",
              "       2.11529367, 2.12530367, 2.13531267, 2.14532267, 2.15533267,\n",
              "       2.16534267, 2.17535167, 2.18533167, 2.19534067, 2.20535067,\n",
              "       2.21536067, 2.22537067, 2.23538067, 2.24538967, 2.25539967,\n",
              "       2.26537867, 2.27538867, 2.28539867, 2.29540867, 2.30541767,\n",
              "       2.31542767, 2.32543767, 2.33541667, 2.34542667, 2.35543667,\n",
              "       2.36544567, 2.37545567, 2.38546567, 2.39547567, 2.40545467,\n",
              "       2.41546467, 2.42547467, 2.43548367, 2.44549367, 2.45550367,\n",
              "       2.46551367, 2.47552267, 2.48550267, 2.49551167, 2.50552167,\n",
              "       2.51553167, 2.52554167, 2.53555067, 2.54556067, 2.55553967,\n",
              "       2.56554967, 2.57555967, 2.58556967, 2.59557967, 2.60558867,\n",
              "       2.61559867, 2.62557767, 2.63558767, 2.64559767, 2.65560767,\n",
              "       2.66561667, 2.67562667, 2.68563667, 2.69564667, 2.70562567,\n",
              "       2.71563567, 2.72564467, 2.73565467, 2.74564579, 2.75565579,\n",
              "       2.76566579, 2.77564479, 2.78565479, 2.79566379, 2.80567379,\n",
              "       2.81568379, 2.82569379, 2.83570279, 2.84568279, 2.85569179,\n",
              "       2.86570179, 2.87571179, 2.88572179, 2.89573079, 2.90574079,\n",
              "       2.91575079, 2.92572979, 2.93573979, 2.94574979, 2.95575879,\n",
              "       2.96576879, 2.97577879, 2.98578879, 2.99576779, 3.00577779,\n",
              "       3.01578779, 3.02579679, 3.03580679, 3.04581679, 3.05582679,\n",
              "       3.06580579, 3.07581579, 3.08582479, 3.09583479, 3.10584479,\n",
              "       3.11585479, 3.12586379, 3.13587379, 3.14585279, 3.15586279,\n",
              "       3.16587279, 3.17588279, 3.18589279, 3.19590179, 3.20591179,\n",
              "       3.21589079, 3.22590079, 3.23591079, 3.24592079, 3.25592979,\n",
              "       3.26593979, 3.27594979, 3.28592879, 3.29593879, 3.30594879,\n",
              "       3.31595779, 3.32596779, 3.33597779, 3.34598779, 3.35599779,\n",
              "       3.36597679, 3.37598679, 3.38599579, 3.39600579, 3.40601579,\n",
              "       3.41602579, 3.42603479, 3.43601479, 3.44602379, 3.45603379,\n",
              "       3.46604379, 3.47605379, 3.48606279, 3.49607279, 3.50605179,\n",
              "       3.51606179, 3.52607179, 3.53608179, 3.54609179, 3.55610079,\n",
              "       3.56611079, 3.57612079, 3.58609979, 3.59610979, 3.60611979,\n",
              "       3.61612879, 3.62613879, 3.63614879, 3.64615879, 3.65613779,\n",
              "       3.66614779, 3.67615679, 3.68616679, 3.69617679, 3.70618679,\n",
              "       3.71619679, 3.72617579, 3.73617738, 3.74618638, 3.75619638,\n",
              "       3.76620637, 3.77621638, 3.78622537, 3.79620537, 3.80621438,\n",
              "       3.81622438, 3.82623437, 3.83624438, 3.84625337, 3.85626338,\n",
              "       3.86627338, 3.87625237, 3.88626237, 3.89627238, 3.90628237,\n",
              "       3.91629138, 3.92630137, 3.93631137, 3.94629037, 3.95630038,\n",
              "       3.96631037, 3.97631938, 3.98632937, 3.99633937, 4.00634938,\n",
              "       4.01632837, 4.02633837, 4.03634738, 4.04635738, 4.05636737,\n",
              "       4.06637738, 4.07638638, 4.08639637, 4.09637538, 4.10638538,\n",
              "       4.11639537, 4.12640538, 4.13641538, 4.14642437, 4.15643437,\n",
              "       4.16641338, 4.17642337, 4.18643338, 4.19644338, 4.20645237,\n",
              "       4.21646237, 4.22647238, 4.23645137, 4.24646137, 4.25647138,\n",
              "       4.26648038, 4.27649037, 4.28650038, 4.29651038, 4.30652037,\n",
              "       4.31649938, 4.32650937, 4.33651837, 4.34652838, 4.35653838,\n",
              "       4.36654837, 4.37655737, 4.38653737, 4.39654637, 4.40655638,\n",
              "       4.41656638, 4.42657637, 4.43658537, 4.44659538, 4.45657437,\n",
              "       4.46658438, 4.47659438, 4.48660437, 4.49661438, 4.50662338,\n",
              "       4.51663337, 4.52661238, 4.53662238, 4.54663237, 4.55664238,\n",
              "       4.56665138, 4.57666137, 4.58667137, 4.59668138, 4.60666037,\n",
              "       4.61667037, 4.62667938, 4.63668937, 4.64669937, 4.65670938,\n",
              "       4.66671937, 4.67669837, 4.68670838, 4.69671738, 4.70672737,\n",
              "       4.71673738, 4.72674738, 4.73675637, 4.74672737, 4.75673638,\n",
              "       4.76674638, 4.77675637, 4.78676638, 4.79677538, 4.80678537,\n",
              "       4.81676437, 4.82677438, 4.83678437, 4.84679437, 4.85680438,\n",
              "       4.86681338, 4.87682337, 4.88683338, 4.89681237, 4.90682237,\n",
              "       4.91683238, 4.92684138, 4.93685137, 4.94686138, 4.95687138,\n",
              "       4.96685037, 4.97686038, 4.98686938, 4.99687937, 5.00688938,\n",
              "       5.01689938, 5.02690837, 5.03688838, 5.04689837, 5.05690737,\n",
              "       5.06691738, 5.07692738, 5.08693737, 5.09694637, 5.10695638,\n",
              "       5.11693537, 5.12694538, 5.13695538, 5.14696537, 5.15697437,\n",
              "       5.16698438, 5.17699437, 5.18697337, 5.19698338, 5.20699337,\n",
              "       5.21700237, 5.22701238, 5.23702237, 5.24703237, 5.25701138,\n",
              "       5.26702137, 5.27703137, 5.28704038, 5.29705038, 5.30706037,\n",
              "       5.31707038, 5.32704937, 5.33705937, 5.34706838, 5.35707838,\n",
              "       5.36708837, 5.37709838, 5.38710738, 5.39711737, 5.40709638,\n",
              "       5.41710638, 5.42711637, 5.43712638, 5.44713638, 5.45714537,\n",
              "       5.46715537, 5.49753892, 5.50754792, 5.51755792, 5.52756792,\n",
              "       5.53757792, 5.54758692, 5.55759692, 5.56757592, 5.57758592,\n",
              "       5.58759592, 5.59760592, 5.60761492, 5.61762492, 5.62763492,\n",
              "       5.63761392])"
            ]
          },
          "metadata": {},
          "execution_count": 5
        }
      ]
    },
    {
      "cell_type": "markdown",
      "source": [
        "Above I've printed the first column, which is time. <br>\n",
        "So, knowing the structure, I can proceed and collect all my important variables. <br> HOWEVER my data is probably of different lengths\n",
        "since my 'before' and 'after' measurments were of different durations.\n"
      ],
      "metadata": {
        "id": "lc2SIctefgGZ"
      }
    },
    {
      "cell_type": "code",
      "source": [
        "earth_x = earth_data[1:,1]\n",
        "earth_mag_x = earth_mag_data[1:,1]\n",
        "print(len(earth_x), len(earth_mag_x))"
      ],
      "metadata": {
        "colab": {
          "base_uri": "https://localhost:8080/"
        },
        "id": "pTMKfTOYh2El",
        "outputId": "20c09de0-b2aa-4808-c49d-fda28e056733"
      },
      "execution_count": 6,
      "outputs": [
        {
          "output_type": "stream",
          "name": "stdout",
          "text": [
            "546 568\n"
          ]
        }
      ]
    },
    {
      "cell_type": "markdown",
      "source": [
        "My earth data is 546 rows adn my earth+mag data has 568 <br>\n",
        "We can sort this out later while plotting or just fix it now. <br>\n",
        "What I'll do is slice the first 500 points from both, <br>\n",
        "therefore they'll both be the same size, and so our plots will be pretty :)"
      ],
      "metadata": {
        "id": "4sS6p7CZiGqp"
      }
    },
    {
      "cell_type": "code",
      "source": [
        "#first grab the 'before' data which is just the earth's magnetic field\n",
        "dt = 501 #grab the first 500 data points (minus the nan variabl name)\n",
        "\n",
        "time = earth_data[1:dt,0]\n",
        "earth_x = earth_data[1:dt,1]\n",
        "earth_y = earth_data[1:dt,2]\n",
        "earth_z = earth_data[1:dt,3]\n",
        "earth_amp = earth_data[1:dt,4]\n",
        "\n",
        "#then grab the 'after' data, which is the earth's field, plus the magnet\n",
        "earth_mag_x = earth_mag_data[1:dt,1]\n",
        "earth_mag_y = earth_mag_data[1:dt,2]\n",
        "earth_mag_z = earth_mag_data[1:dt,3]\n",
        "earth_mag_amp = earth_mag_data[1:dt,4]\n",
        "\n",
        "print(len(earth_x), len(earth_mag_x))"
      ],
      "metadata": {
        "colab": {
          "base_uri": "https://localhost:8080/"
        },
        "id": "cCvT69zngjbU",
        "outputId": "8cc7d162-e395-405b-ca77-e8aa268c00ac"
      },
      "execution_count": 7,
      "outputs": [
        {
          "output_type": "stream",
          "name": "stdout",
          "text": [
            "500 500\n"
          ]
        }
      ]
    },
    {
      "cell_type": "markdown",
      "source": [
        "As you can see, now they're all 500 points each! <br>\n",
        "Ok, let's test them out with some plots"
      ],
      "metadata": {
        "id": "o3khpRp0hFWt"
      }
    },
    {
      "cell_type": "code",
      "source": [
        "#Matplotlib's plot works like plt.plot(x, y, etc.)\n",
        "plt.plot(time, earth_amp, c='r', label='Earth')\n",
        "plt.plot(time, earth_mag_amp, c='b', label='Earth+Mag')\n",
        "plt.xlabel('time (s)')\n",
        "plt.ylabel('Magnetic Field Strength ($\\mu$T)')\n",
        "plt.title('Comparing Before and After Magnet Placement')\n",
        "plt.legend(); plt.grid()\n",
        "plt.show()"
      ],
      "metadata": {
        "colab": {
          "base_uri": "https://localhost:8080/",
          "height": 296
        },
        "id": "s_8lfl1qg4LY",
        "outputId": "955f037a-f4f8-4989-cfe0-cefdc7c4899d"
      },
      "execution_count": 8,
      "outputs": [
        {
          "output_type": "display_data",
          "data": {
            "text/plain": [
              "<Figure size 432x288 with 1 Axes>"
            ],
            "image/png": "[encoded data removed]"
          },
          "metadata": {
            "needs_background": "light"
          }
        }
      ]
    },
    {
      "cell_type": "markdown",
      "source": [
        "Feel free to play around with the plot to make it pretty. <br>\n",
        "Obviously we see that adding the magnet increased the field by a significant amount."
      ],
      "metadata": {
        "id": "e75Wr4pBk5b7"
      }
    },
    {
      "cell_type": "markdown",
      "source": [
        "Now let's say we want to do some of the required math. <br>\n",
        "That is, calculating the means, standard uncertainties. <br>\n",
        "Also, we have to subtract the 'before' and 'after' to find the magnet's own field. <br> As well as the directions and magnitudes."
      ],
      "metadata": {
        "id": "A-j9qFF3lOFH"
      }
    },
    {
      "cell_type": "code",
      "source": [
        "#Numpy can easily do most of this\n",
        "mean_earth_x = np.mean(earth_x)\n",
        "mean_earth_x"
      ],
      "metadata": {
        "colab": {
          "base_uri": "https://localhost:8080/"
        },
        "id": "B-7CbPhPjyTH",
        "outputId": "bea37587-577a-4426-ce5e-a80c4be7ff02"
      },
      "execution_count": 9,
      "outputs": [
        {
          "output_type": "execute_result",
          "data": {
            "text/plain": [
              "-19.205113952859996"
            ]
          },
          "metadata": {},
          "execution_count": 9
        }
      ]
    },
    {
      "cell_type": "code",
      "source": [
        "#We can do this for each component to find the average vector\n",
        "earth_xyz = [np.mean(x) for x in [earth_x, earth_y, earth_z]]\n",
        "earth_xyz"
      ],
      "metadata": {
        "colab": {
          "base_uri": "https://localhost:8080/"
        },
        "id": "Y9fQkIorlrJb",
        "outputId": "207e280d-c79f-4c35-bf4a-f7e71d30e884"
      },
      "execution_count": 10,
      "outputs": [
        {
          "output_type": "execute_result",
          "data": {
            "text/plain": [
              "[-19.205113952859996, -5.794818817176, -35.590405304]"
            ]
          },
          "metadata": {},
          "execution_count": 10
        }
      ]
    },
    {
      "cell_type": "markdown",
      "source": [
        "This means the vector of the Earth's magnetic field, relative to the phone's magnetometer, is <br>\n",
        "\n",
        "$earth = (-19.2, -5.8, -35.6)$\n",
        "\n",
        "Which can also be written as\n",
        "\n",
        "$earth = -19.2\\hat x -5.8\\hat y - 35.6\\hat z$\n",
        "\n",
        "Or, as you'll sometimes see, in terms of unit vectors (ijk)\n",
        "\n",
        "$earth = -19.2\\hat i -5.8\\hat j - 35.6\\hat k$\n",
        "\n",
        "These all mean basically the same thing: they tell you the direction of the vector."
      ],
      "metadata": {
        "id": "Kau0wwBJmG22"
      }
    },
    {
      "cell_type": "markdown",
      "source": [
        "For the magnitudes, we can also use Numpy"
      ],
      "metadata": {
        "id": "C0y6FfQDnej6"
      }
    },
    {
      "cell_type": "code",
      "source": [
        "mean_earth_x = np.mean(earth_x)\n",
        "mean_earth_y = np.mean(earth_y)\n",
        "mean_earth_z = np.mean(earth_z)\n",
        "\n",
        "x_mag = np.sqrt(mean_earth_x**2+mean_earth_y**2+mean_earth_z**2)\n",
        "x_mag"
      ],
      "metadata": {
        "colab": {
          "base_uri": "https://localhost:8080/"
        },
        "id": "qcVuQc1Tl-R0",
        "outputId": "a4d12adf-980b-4230-9c59-95e98022a7e6"
      },
      "execution_count": 11,
      "outputs": [
        {
          "output_type": "execute_result",
          "data": {
            "text/plain": [
              "40.85453801928528"
            ]
          },
          "metadata": {},
          "execution_count": 11
        }
      ]
    },
    {
      "cell_type": "markdown",
      "source": [
        "Let's compare that to what the app has given us."
      ],
      "metadata": {
        "id": "Ea-SshudoCya"
      }
    },
    {
      "cell_type": "code",
      "source": [
        "#Note that mag has meant magnet not magnitude, and mean = average\n",
        "mean_earth_amp = np.mean(earth_amp)\n",
        "mean_earth_amp"
      ],
      "metadata": {
        "colab": {
          "base_uri": "https://localhost:8080/"
        },
        "id": "jImKqjymn_Tv",
        "outputId": "62adaefe-1737-4413-e0ac-7ede390627ff"
      },
      "execution_count": 12,
      "outputs": [
        {
          "output_type": "execute_result",
          "data": {
            "text/plain": [
              "40.85525964056"
            ]
          },
          "metadata": {},
          "execution_count": 12
        }
      ]
    },
    {
      "cell_type": "markdown",
      "source": [
        "Not bad. The app probably uses a rolling average, so it's a bit different."
      ],
      "metadata": {
        "id": "Hsl13YH_oZdD"
      }
    },
    {
      "cell_type": "markdown",
      "source": [
        "The uncertainty of a data set is the standard deviation divided by the sqrt of the number of data points. <br>\n",
        "\n",
        "<br>$\\mu=σ*N^{1/2}$"
      ],
      "metadata": {
        "id": "a-xED-Hrorgw"
      }
    },
    {
      "cell_type": "code",
      "source": [
        "#The standard deviation has a complicated form, but we can use Numpy\n",
        "\n",
        "std_earth_amp = np.std(earth_amp)\n",
        "std_earth_amp"
      ],
      "metadata": {
        "colab": {
          "base_uri": "https://localhost:8080/"
        },
        "id": "C1GEcNeAoJWp",
        "outputId": "d8990fb1-c9bb-4766-fcd2-84d61fec041d"
      },
      "execution_count": 13,
      "outputs": [
        {
          "output_type": "execute_result",
          "data": {
            "text/plain": [
              "0.12325739477917241"
            ]
          },
          "metadata": {},
          "execution_count": 13
        }
      ]
    },
    {
      "cell_type": "markdown",
      "source": [
        "A small standard deviation makes sense looking at how steady the data was. <br>\n",
        "For the uncertainty then, we just need to divide by the sqrt of the number of points."
      ],
      "metadata": {
        "id": "0-k1uaDXpzoF"
      }
    },
    {
      "cell_type": "code",
      "source": [
        "unc_earth_amp = std_earth_amp/np.sqrt(dt)\n",
        "unc_earth_amp"
      ],
      "metadata": {
        "colab": {
          "base_uri": "https://localhost:8080/"
        },
        "id": "If2TgsCCppAq",
        "outputId": "6908e061-e48a-414f-8f41-db3c9a292b85"
      },
      "execution_count": 14,
      "outputs": [
        {
          "output_type": "execute_result",
          "data": {
            "text/plain": [
              "0.005506734285446909"
            ]
          },
          "metadata": {},
          "execution_count": 14
        }
      ]
    },
    {
      "cell_type": "markdown",
      "source": [
        "Remeber dt = 500, which is equivalent to how many data points are in the array.\n",
        "<br> A super low uncertainty makes sense for two reasons:\n",
        "* because the standard deviation is small (numerator)\n",
        "* because the number of data points is large (denomenator)"
      ],
      "metadata": {
        "id": "Rpqo9YvmqHrH"
      }
    },
    {
      "cell_type": "markdown",
      "source": [
        "The only thing I have yet to demonstrate is the vector subtraction.\n",
        "That is easy enough."
      ],
      "metadata": {
        "id": "5VWnUsWIqzCM"
      }
    },
    {
      "cell_type": "code",
      "source": [
        "diff_x = earth_mag_x - earth_x\n",
        "diff_y = earth_mag_y - earth_y\n",
        "diff_z = earth_mag_z - earth_z\n",
        "\n",
        "mean_diff_x = np.mean(diff_x)\n",
        "mean_diff_y = np.mean(diff_y)\n",
        "mean_diff_z = np.mean(diff_z)\n",
        "\n",
        "[mean_diff_x, mean_diff_y, mean_diff_z]"
      ],
      "metadata": {
        "colab": {
          "base_uri": "https://localhost:8080/"
        },
        "id": "EkNUDocHqE4w",
        "outputId": "6b4921fe-f50c-49fe-acdb-1193edfd4fcb"
      },
      "execution_count": 15,
      "outputs": [
        {
          "output_type": "execute_result",
          "data": {
            "text/plain": [
              "[-195.89925781074, -159.20538473522402, -7.735063629120001]"
            ]
          },
          "metadata": {},
          "execution_count": 15
        }
      ]
    },
    {
      "cell_type": "markdown",
      "source": [
        "*Voila!* \n",
        "<br> This means our magnet, by itself, has the vector\n",
        "\n",
        "magnet = (earth+magnet) - earth\n",
        "<br><br>\n",
        "$\\bar {magnet} = -196\\hat x -159\\hat y - 8\\hat z$\n",
        "\n",
        "> It's important to interpret your results!\n",
        "What I did was put a small magnet right *above* my phone.\n",
        "You can see the z component is tiny, because the magnet was in the x-y plane with the phone."
      ],
      "metadata": {
        "id": "6gKiNhQFrqbc"
      }
    },
    {
      "cell_type": "markdown",
      "source": [
        "Note that the amplitude of the difference cannot be calculated simply as the difference of the amplitudes, but rather needs to account for each component."
      ],
      "metadata": {
        "id": "XtXYwQZdstV3"
      }
    },
    {
      "cell_type": "code",
      "source": [
        "wrong_mean_diff_amp = np.mean(earth_mag_amp) - np.mean(earth_amp)\n",
        "\n",
        "right_mean_diff_amp = np.sqrt(\n",
        "    \n",
        "    (np.mean(earth_mag_x) - np.mean(earth_x))**2\n",
        "    +\n",
        "    (np.mean(earth_mag_y) - np.mean(earth_y))**2\n",
        "    +\n",
        "    (np.mean(earth_mag_z) - np.mean(earth_z))**2\n",
        ")\n",
        "\n",
        "print(wrong_mean_diff_amp, right_mean_diff_amp)"
      ],
      "metadata": {
        "colab": {
          "base_uri": "https://localhost:8080/"
        },
        "id": "ZbZIbokVrZ4e",
        "outputId": "1d9ef4f1-dd77-436c-fb71-f67ff2c931b0"
      },
      "execution_count": 16,
      "outputs": [
        {
          "output_type": "stream",
          "name": "stdout",
          "text": [
            "233.68451555503998 252.55238060417486\n"
          ]
        }
      ]
    },
    {
      "cell_type": "code",
      "source": [
        "#Note as well that we can take the mean of each component before hand\n",
        "#As we just did, or take it after calculating the amplitude\n",
        "#This works because Python is smart, and so can operate on entire arrays\n",
        "\n",
        "mag_amp = np.sqrt(\n",
        "    (earth_mag_x - earth_x)**2\n",
        "    +\n",
        "    (earth_mag_y - earth_y)**2\n",
        "    +\n",
        "    (earth_mag_z - earth_z)**2\n",
        ")\n",
        "\n",
        "np.mean(mag_amp)"
      ],
      "metadata": {
        "colab": {
          "base_uri": "https://localhost:8080/"
        },
        "id": "oqRIm03Ot0Oo",
        "outputId": "b9f96ad9-6e91-4b5b-a11f-390bd9f446f0"
      },
      "execution_count": 17,
      "outputs": [
        {
          "output_type": "execute_result",
          "data": {
            "text/plain": [
              "252.55255414779455"
            ]
          },
          "metadata": {},
          "execution_count": 17
        }
      ]
    },
    {
      "cell_type": "markdown",
      "source": [
        "Finally I'll just plot the results"
      ],
      "metadata": {
        "id": "ph_31HBJvhvr"
      }
    },
    {
      "cell_type": "code",
      "source": [
        "plt.plot(time, earth_amp, c='r', label='Earth')\n",
        "plt.plot(time, earth_mag_amp, c='b', label='Earth+Mag')\n",
        "plt.plot(time, mag_amp, c='g', label='Mag')\n",
        "plt.xlabel('time (s)')\n",
        "plt.ylabel('Magnetic Field Strength ($\\mu$T)')\n",
        "plt.title('Comparing Before and After Magnet Placement')\n",
        "plt.legend(); plt.grid()\n",
        "plt.show()"
      ],
      "metadata": {
        "colab": {
          "base_uri": "https://localhost:8080/",
          "height": 296
        },
        "id": "N1B_951xugP4",
        "outputId": "feede5e6-9c9e-4b35-d708-c74abec29d1d"
      },
      "execution_count": 18,
      "outputs": [
        {
          "output_type": "display_data",
          "data": {
            "text/plain": [
              "<Figure size 432x288 with 1 Axes>"
            ],
            "image/png": "[encoded data removed]"
          },
          "metadata": {
            "needs_background": "light"
          }
        }
      ]
    },
    {
      "cell_type": "markdown",
      "source": [
        "**That's that!**"
      ],
      "metadata": {
        "id": "8QFGiQBLwMnb"
      }
    }
  ]
}