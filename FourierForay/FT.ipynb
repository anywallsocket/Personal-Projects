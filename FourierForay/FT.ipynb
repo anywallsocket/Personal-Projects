{
 "cells": [
  {
   "cell_type": "code",
   "execution_count": 1,
   "id": "7e947f64-a703-4fac-9352-7171a32c99aa",
   "metadata": {},
   "outputs": [],
   "source": [
    "import numpy as np\n",
    "from numpy import sin, cos, exp, pi\n",
    "import matplotlib.pyplot as plt\n",
    "import matplotlib.gridspec as gridspec\n",
    "from matplotlib.widgets import Slider\n",
    "import ipywidgets as widgets"
   ]
  },
  {
   "cell_type": "code",
   "execution_count": 2,
   "id": "440c8185-2fc4-4e85-aac5-5dc1dc820f1f",
   "metadata": {},
   "outputs": [],
   "source": [
    "plt.style.use('dark_background')\n",
    "plt.rcParams['figure.facecolor'] = 'None'\n",
    "plt.rcParams['axes.facecolor'] = 'None'\n",
    "plt.rcParams['figure.edgecolor'] = 'None'\n",
    "plt.rcParams['axes.edgecolor'] = 'None'"
   ]
  },
  {
   "cell_type": "markdown",
   "id": "b098ca67-0efc-4f4a-8c92-0dca4339e269",
   "metadata": {},
   "source": [
    "### Here we explore the Fourier Transform\n",
    "(as inspired by 3B1B: https://www.3blue1brown.com/lessons/fourier-transforms)\n",
    "\n",
    "First we build a waveform, here it is done with two sine waves of two different frequencies\n",
    "\n",
    "$f(t)=sin(2\\pi tf_1)+sin(2\\pi tf_2)$\n",
    "\n",
    "Where $f_1$ and $f_2$ correspond to hz1 and hz2\n",
    "\n",
    "Then we define a frequency range with which to calculate the $FT$, here Hz\n",
    "\n",
    "$F(f)=\\int{f(t)e^{i2\\pi ft} dt}$\n",
    "\n",
    "* note that the code taks the mean for visualization, whereas the true $FT$ does not\n",
    "\n",
    "We can then extract the real and imaginary components form $FT$\n",
    "\n",
    "* These correspond to the even and odd (cos and sin) eigenstates"
   ]
  },
  {
   "cell_type": "code",
   "execution_count": 3,
   "id": "54860128-f8b2-4dcc-99d5-eb07ac914efc",
   "metadata": {},
   "outputs": [],
   "source": [
    "hz1, hz2 = 2.1, 7.6\n",
    "t = np.linspace(0,1,1000)\n",
    "f = sin(2*pi*t*hz1) + sin(2*pi*t*hz2)\n",
    "Hz = np.linspace(0,10,100)\n",
    "means = [np.mean((f*exp(1j*2*pi*hz*t))) for hz in Hz]\n",
    "Re = np.array([m.real for m in means])\n",
    "Im = np.array([m.imag for m in means])"
   ]
  },
  {
   "cell_type": "code",
   "execution_count": 4,
   "id": "01c80bb9-09b5-4e0e-a7e8-eeb24a518dac",
   "metadata": {},
   "outputs": [],
   "source": [
    "def plotFT(hz):\n",
    "\n",
    "    z = f*exp(1j*2*pi*hz*t)\n",
    "    x = [i.real for i in z]\n",
    "    y = [i.imag for i in z]\n",
    "    \n",
    "    mx = np.mean(x)\n",
    "    my = np.mean(y)\n",
    "    r = np.sqrt(mx**2+my**2)\n",
    "\n",
    "    fig = plt.figure(figsize=(8, 4))\n",
    "    gs = gridspec.GridSpec(2, 2)\n",
    "    \n",
    "    a1 = fig.add_subplot(gs[:, 0])\n",
    "    a2 = fig.add_subplot(gs[0, 1])\n",
    "    a3 = fig.add_subplot(gs[1, 1])\n",
    "    \n",
    "    a1.plot(x, y, c='magenta', zorder=1)\n",
    "    a1.scatter([mx], [my], c='w', label=str(np.round(r,3)), zorder=2)\n",
    "    a1.legend(loc='upper left')\n",
    "    a1.grid(ls=':')\n",
    "    a1.set_xlim(-2, 2)\n",
    "    a1.set_ylim(-2, 2)\n",
    "    a1.set_xticks([])\n",
    "    a1.set_yticks([])\n",
    "    \n",
    "    a2.plot(t, f, c='yellow')\n",
    "    a2.set_yticks([])\n",
    "\n",
    "    a3.plot(Hz, Re, c='r', alpha=0.5, zorder=1)\n",
    "    a3.scatter(hz, [mx], c='r', label='Re', zorder=2)\n",
    "    a3.plot(Hz, Im, c='b', alpha=0.5, zorder=1)\n",
    "    a3.scatter(hz, [my], c='b', label='Im', zorder=2)\n",
    "    a3.legend(loc='lower center')\n",
    "    a3.set_xlim(0,10)\n",
    "    a3.set_ylim(-1,1)\n",
    "    a3.set_yticks([])\n",
    "    plt.tight_layout()\n",
    "    plt.show()"
   ]
  },
  {
   "cell_type": "code",
   "execution_count": 5,
   "id": "4b49ab4e-5752-490f-836e-bb07bde5ebff",
   "metadata": {},
   "outputs": [
    {
     "data": {
      "application/vnd.jupyter.widget-view+json": {
       "model_id": "59c87bdca01942aab8e0572cbb00e9ae",
       "version_major": 2,
       "version_minor": 0
      },
      "text/plain": [
       "interactive(children=(FloatSlider(value=0.0, description='hz', max=10.0), Output()), _dom_classes=('widget-int…"
      ]
     },
     "execution_count": 5,
     "metadata": {},
     "output_type": "execute_result"
    }
   ],
   "source": [
    "slider = widgets.FloatSlider(value=0, min=0, max=Hz[-1], step=0.1, description='hz')\n",
    "widgets.interactive(plotFT, hz=slider)"
   ]
  },
  {
   "cell_type": "markdown",
   "id": "321f2dba-95c6-4bd5-bd91-1ca4817278ce",
   "metadata": {},
   "source": [
    "### So what's going on here?\n",
    "\n",
    "As much as we love 3B1B, the complex plane representation, albiet attractive, does not do much for our intuitions -- indeed, making the polar plot is not at all necessary. What we notice if anything, is that when the sampled frequency aligns with one of the eigenfrequencies, the loops coalesce either vertically (imaginary, odd frequency), or horizontally (real, even frequency). And that otherwise these loops tend to be more or less evenly distributed about the domain. These moments of *constructive interference*, if we can jump the gun, likewise shift the mean away from the origin, suggesting the overall value of $F(f)$ has, at that value of $f$, become mostly real or mostly imaginary -- this is why both the heighest peaks in the requency plot are blue (imaginary), since the eigenfrequencies are initialized as odd (sine)."
   ]
  },
  {
   "cell_type": "markdown",
   "id": "6a924f5f-7068-47e8-b4fb-034898de2a09",
   "metadata": {},
   "source": [
    "### Looking further\n",
    "\n",
    "In search of more intuition, we now investigate the same idea, just without the polar plot -- i.e., we will plot the mean of $F(f)$ over the time domain, along with the original signal.\n",
    "\n",
    "For clarity, we plot only the imaginary component, since again, the eigenfrequencies are initialized as sine waves. This can be done just by multiplying $f(t)$ by $sin(2\\pi ft)$, instead of the complex polar form $e^{i2\\pi ft}$."
   ]
  },
  {
   "cell_type": "code",
   "execution_count": 6,
   "id": "3bb4a734-5eb3-4a07-bc84-cca6221dffdd",
   "metadata": {},
   "outputs": [],
   "source": [
    "def update(hz): \n",
    "    e = sin(2*pi*hz*t)\n",
    "    y = f*sin(2*pi*hz*t)\n",
    "    my = np.mean(y)\n",
    "    plt.figure(figsize=(8,2))\n",
    "    plt.hlines(0, 0, t[-1], color='w', alpha=0.2)\n",
    "    plt.plot(t, f, c='yellow', alpha=0.5, label='$f(t)$')\n",
    "    plt.plot(t, e, c='b', alpha=0.5, label='$sin(2\\pi ft)$')\n",
    "    plt.plot(t, y, c='magenta', alpha=0.5, label='$f(t)sin(2\\pi ft)$')\n",
    "    plt.hlines(my, 0, 1, color='magenta', ls=':', label=str(np.round(my,1)))\n",
    "    plt.legend(bbox_to_anchor=(1, 0.9))\n",
    "    plt.yticks([])\n",
    "    plt.ylim(-2,2)"
   ]
  },
  {
   "cell_type": "code",
   "execution_count": 7,
   "id": "3e97ccbf-4478-478e-b990-b4b8b9130c94",
   "metadata": {},
   "outputs": [
    {
     "data": {
      "application/vnd.jupyter.widget-view+json": {
       "model_id": "1c869de8d782449eb5da861304c6d302",
       "version_major": 2,
       "version_minor": 0
      },
      "text/plain": [
       "interactive(children=(FloatSlider(value=0.0, description='hz', max=10.0), Output()), _dom_classes=('widget-int…"
      ]
     },
     "execution_count": 7,
     "metadata": {},
     "output_type": "execute_result"
    }
   ],
   "source": [
    "widgets.interactive(update, hz=slider)"
   ]
  },
  {
   "cell_type": "markdown",
   "id": "24638ec0-0f2f-4561-89a6-5112bc9bd346",
   "metadata": {},
   "source": [
    "Play with this as you like. What we notice is that where the sample frequencies align with the eigenfrequencies, the mean of their product departs from zero as before. However, now that we are simultaneously plotting the original signal as well, we realize that indeed, it is the point of most constructive interference (resonance) between the original signal $f(t)$ and the sampled frequency $sin(2\\pi ft)$ that leads to an overall positive mean in their product $f(t)sin(2\\pi ft)$. \n",
    "\n",
    "Basically, if your sample frequency has the *same sign* as the original signal, for a majority of the time, then your product will be mostly positive.\n",
    "\n",
    "Try simplifying the original signal to make this even more clear.\n",
    "\n",
    "Thus, the general idea behind the $FT$ can be seen to be to test (multiply) all sample frequencies $e^{i2\\pi ft}$ against the original signal $f(t)$, such that all but those which resonate with the original signal's eigenfrequencies will cancel out. "
   ]
  },
  {
   "cell_type": "markdown",
   "id": "5db99a99-8ff3-4213-8fc1-e35c80675f1b",
   "metadata": {},
   "source": [
    "### Now we test an actual FT algorithm\n",
    "Namely, Scipy's FFT"
   ]
  },
  {
   "cell_type": "code",
   "execution_count": 8,
   "id": "4d65883b-2823-48e0-8034-5b08f1852700",
   "metadata": {},
   "outputs": [
    {
     "name": "stdout",
     "output_type": "stream",
     "text": [
      "peaks: [1.998 7.992]\n"
     ]
    },
    {
     "data": {
      "image/png": "[encoded data removed]",
      "text/plain": [
       "<Figure size 500x200 with 1 Axes>"
      ]
     },
     "metadata": {
      "needs_background": "dark"
     },
     "output_type": "display_data"
    }
   ],
   "source": [
    "from scipy.fft import fft, fftfreq\n",
    "from scipy.signal import find_peaks\n",
    "\n",
    "F = fft(f)\n",
    "fs = 1/(t[1]-t[0])\n",
    "freqs = fftfreq(len(t), 1/fs)\n",
    "\n",
    "mag = np.abs(F)/len(t)\n",
    "peaks = find_peaks(mag)[0]\n",
    "peaks = peaks[freqs[peaks] > 0]\n",
    "print(\"peaks:\", freqs[peaks])\n",
    "\n",
    "plt.figure(figsize=(5,2))\n",
    "plt.plot(mag, c='w')\n",
    "plt.plot(freqs[peaks], mag[peaks], 'o', c='r', ms=5)\n",
    "plt.yticks([])\n",
    "plt.ylim(-1,1)\n",
    "plt.xlim(0, Hz[-1])\n",
    "plt.show()"
   ]
  },
  {
   "cell_type": "markdown",
   "id": "5ff697f4-fa6f-432e-a2ce-868e65bdc1e3",
   "metadata": {},
   "source": [
    "These values should approximate the frequencies defined above"
   ]
  },
  {
   "cell_type": "code",
   "execution_count": 9,
   "id": "d1324d40-6125-4c9f-9168-e81c548bc96e",
   "metadata": {},
   "outputs": [],
   "source": [
    "#//END"
   ]
  }
 ],
 "metadata": {
  "kernelspec": {
   "display_name": "Python 3 (ipykernel)",
   "language": "python",
   "name": "python3"
  },
  "language_info": {
   "codemirror_mode": {
    "name": "ipython",
    "version": 3
   },
   "file_extension": ".py",
   "mimetype": "text/x-python",
   "name": "python",
   "nbconvert_exporter": "python",
   "pygments_lexer": "ipython3",
   "version": "3.8.18"
  }
 },
 "nbformat": 4,
 "nbformat_minor": 5
}
